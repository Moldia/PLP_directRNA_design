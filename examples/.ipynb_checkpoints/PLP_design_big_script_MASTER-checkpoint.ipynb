{
 "cells": [
  {
   "cell_type": "markdown",
   "metadata": {},
   "source": [
    "## Notebook to design PLPs for ISS \n"
   ]
  },
  {
   "cell_type": "markdown",
   "metadata": {},
   "source": [
    "### Requirements to run the script"
   ]
  },
  {
   "cell_type": "markdown",
   "metadata": {},
   "source": [
    "This script aims to be used as an example of how to design ISS probes to target different genes. The requirements to use this scripts to design PLP are:\n",
    "\n",
    "(1) A list of Genes to design a padlock probe (PLP) agains it\n",
    "\n",
    "(2) The reference transcriptome of the species you are targeting in fasta format (.fasta/.fa/.fna) downloaded locally.\n",
    "\n",
    "(3) ClustalW2 downloaded on your computer\n",
    "\n",
    "(4) Cutadapt downloaded on your computer \n"
   ]
  },
  {
   "cell_type": "markdown",
   "metadata": {},
   "source": [
    "# Import packages"
   ]
  },
  {
   "cell_type": "markdown",
   "metadata": {},
   "source": [
    "The first step in this script is to load the packages that the script will need. If anything fails in this step, it means most likely that you haven't installed the package yet. You can install packages with \"pip install < whatever >\" on the command line"
   ]
  },
  {
   "cell_type": "code",
   "execution_count": 1,
   "metadata": {},
   "outputs": [],
   "source": [
    "import pandas as pd \n",
    "import Bio\n",
    "from Bio import SeqIO\n",
    "from Bio.SeqUtils import GC\n",
    "from Bio.Seq import Seq\n",
    "from Bio.SeqRecord import SeqRecord\n",
    "from Bio.Align import MultipleSeqAlignment\n",
    "from Bio.Align.Applications import ClustalwCommandline\n",
    "import collections\n",
    "from Bio import AlignIO\n",
    "import random\n",
    "import numpy as np\n",
    "import sys\n",
    "sys.path+=[r\"C:\\Users\\sergio.salas\\Desktop\\github_repos\\PLP_directRNA_design\\PLP_directRNA_design\"]\n",
    "#sys.path += [r\"C:\\Users\\sergio.salas\\Documents\\PhD\\projects\\gene_design\\PLP_design_package\\bin\"]\n",
    "#print (sys.path)\n",
    "import PLP_design as plp"
   ]
  },
  {
   "cell_type": "markdown",
   "metadata": {},
   "source": [
    "##  Reference parameters"
   ]
  },
  {
   "cell_type": "markdown",
   "metadata": {},
   "source": [
    "Please specify in the following lines where your input csv, output path and accompaning software is located in your computer"
   ]
  },
  {
   "cell_type": "markdown",
   "metadata": {},
   "source": [
    "`Path`: Where do you want your output to be stored in.\n",
    "`Genes`: csv containing the list of genes you want to design PLPs against\n",
    "`Pathclustal`: path where the program ClustalW2 is installed. Find it by searching ClustalW2 on your folder menu, opening the location of it and copying the path here\n",
    "`ref`: reference transcriptome of the species you are interested on\n",
    " `L_probe_library`:this is used to link your good target sequences/genes to L-IDs that will be used later for decoding)\n",
    "`LbarID` is,from the reference PLP list,  where do you want to start from"
   ]
  },
  {
   "cell_type": "code",
   "execution_count": 2,
   "metadata": {},
   "outputs": [],
   "source": [
    "path='C:/Users/sergio.salas/Documents/PhD/projects/gene_design/hower_example_5'\n",
    "genes=pd.read_csv(r\"C:\\Users\\sergio.salas\\Documents\\PhD\\projects\\gene_design\\genelist2.csv\",sep=',')\n",
    "pathclustal=r\"C:/ProgramData/Microsoft/Windows/Start Menu/Programs/ClustalW2/ClustalW2.lnk\"\n",
    "ref='C:/Users/sergio.salas/Documents/PhD/projects/gene_design/example/GRCh38_latest_rna.fna'\n",
    "L_probe_library=\"C:/Users/sergio.salas/Documents/PhD/projects/gene_design/example/Lprobe_Ver2.csv\"\n",
    "LbarID=201 # "
   ]
  },
  {
   "cell_type": "markdown",
   "metadata": {},
   "source": [
    "# PARAMETERS RELATED WITH PLP DESIGN ITSELF"
   ]
  },
  {
   "cell_type": "markdown",
   "metadata": {},
   "source": [
    "`selgenes`: number of sequences (out of the ones fitting your parameters), that you want to map against the transcriptome.\n",
    "The more you map, the slower it will be, but the higher chance you'll have to get specific sequences.\n",
    "We recommend `number_of_seqs`=7-8, for a standard ISS experiment where you want 4-5 final PLPs\n",
    "\n",
    "`final_designed`: maximum number of PLPs that you want to design out of the number included as selgenes\n",
    "`plp_length`: length of the part of the PLP hybridizing the RNA molecules\n",
    "`mismatches`: is the maximum allowed mismatches between the probe and the target sequence. Anything below or equal to `mismatches` will produce a positive hit. OPTIONAL: include gc_max, gc_min, set to 50 and 65 in the default script if you want to change it "
   ]
  },
  {
   "cell_type": "code",
   "execution_count": 3,
   "metadata": {},
   "outputs": [],
   "source": [
    "number_of_seqs= 2 # number of sequences mapped/PLP\n",
    "final_designed=2 # number of PLPs designed at the end/gene\n",
    "plp_length=30\n",
    "mismatches = 5"
   ]
  },
  {
   "cell_type": "markdown",
   "metadata": {},
   "source": [
    "# Extract and align sequences"
   ]
  },
  {
   "cell_type": "markdown",
   "metadata": {},
   "source": [
    "The first step in the PLP design is to extract the sequnces for the designed genes from the reference transcriptome. Since many of the genes present more than one variant, the default script for PLP design will use only the common sequences"
   ]
  },
  {
   "cell_type": "code",
   "execution_count": 4,
   "metadata": {
    "scrolled": true
   },
   "outputs": [
    {
     "name": "stdout",
     "output_type": "stream",
     "text": [
      "Starting SOX1\n",
      "Starting SOX3\n",
      "Extracting all possible targets for all genes\n"
     ]
    }
   ],
   "source": [
    "sequences,found_genes,notfound_genes=plp.extract_and_align(genes,ref,path,pathclustal) # optionally include gc_max, gc_min and plp_length to define parameters of your PLP"
   ]
  },
  {
   "cell_type": "markdown",
   "metadata": {},
   "source": [
    "From the previous script, we return `sequences`, which include all the potential sequences (not mapped yet) for all genes targeted. `found_genes` include the list of genes that we have been able to find k-mers fullfiling the PLP requirements. `not_found_genes` include the list of genes that we haven't been able to find/ we haven't been able to find any k-mer that fullfils the requirements. Those can be (1) too short genes or (2) genes with too many variants and no comon sequence among them"
   ]
  },
  {
   "cell_type": "markdown",
   "metadata": {},
   "source": [
    "# Select a subsample of potential targets"
   ]
  },
  {
   "cell_type": "markdown",
   "metadata": {},
   "source": [
    "We subsample the long list of potential targets/sequences to check for specificity. The returned object `selected_sequences` has the same format as sequences, but has only the amount of targets/gene specified in `number_of_seqs`"
   ]
  },
  {
   "cell_type": "code",
   "execution_count": 9,
   "metadata": {},
   "outputs": [],
   "source": [
    "selected=sequences\n",
    "genes_required=found_genes\n",
    "number_of_selected=number_of_seqs\n",
    "subgroup=1"
   ]
  },
  {
   "cell_type": "code",
   "execution_count": 12,
   "metadata": {},
   "outputs": [],
   "source": [
    "selected2=pd.DataFrame(columns=selected.columns)"
   ]
  },
  {
   "cell_type": "code",
   "execution_count": 14,
   "metadata": {},
   "outputs": [],
   "source": [
    "ele=pan[pan['Gene']==e]"
   ]
  },
  {
   "cell_type": "code",
   "execution_count": 19,
   "metadata": {},
   "outputs": [],
   "source": [
    "sele=ele.iloc[randomlist,:]"
   ]
  },
  {
   "cell_type": "code",
   "execution_count": 24,
   "metadata": {},
   "outputs": [
    {
     "data": {
      "text/plain": [
       "35    588\n",
       "Name: Position, dtype: int64"
      ]
     },
     "execution_count": 24,
     "metadata": {},
     "output_type": "execute_result"
    }
   ],
   "source": [
    "sele['Position']-20"
   ]
  },
  {
   "cell_type": "code",
   "execution_count": 38,
   "metadata": {},
   "outputs": [
    {
     "data": {
      "text/html": [
       "<div>\n",
       "<style scoped>\n",
       "    .dataframe tbody tr th:only-of-type {\n",
       "        vertical-align: middle;\n",
       "    }\n",
       "\n",
       "    .dataframe tbody tr th {\n",
       "        vertical-align: top;\n",
       "    }\n",
       "\n",
       "    .dataframe thead th {\n",
       "        text-align: right;\n",
       "    }\n",
       "</style>\n",
       "<table border=\"1\" class=\"dataframe\">\n",
       "  <thead>\n",
       "    <tr style=\"text-align: right;\">\n",
       "      <th></th>\n",
       "      <th>Unnamed: 0</th>\n",
       "      <th>Gene</th>\n",
       "      <th>Position</th>\n",
       "      <th>Sequence</th>\n",
       "      <th>exp_hits</th>\n",
       "    </tr>\n",
       "  </thead>\n",
       "  <tbody>\n",
       "    <tr>\n",
       "      <th>35</th>\n",
       "      <td>35</td>\n",
       "      <td>SOX3</td>\n",
       "      <td>608</td>\n",
       "      <td>GAAGGAGTATCCGGACTACAAGTACCGACC</td>\n",
       "      <td>1</td>\n",
       "    </tr>\n",
       "    <tr>\n",
       "      <th>35</th>\n",
       "      <td>35</td>\n",
       "      <td>SOX3</td>\n",
       "      <td>608</td>\n",
       "      <td>GAAGGAGTATCCGGACTACAAGTACCGACC</td>\n",
       "      <td>1</td>\n",
       "    </tr>\n",
       "  </tbody>\n",
       "</table>\n",
       "</div>"
      ],
      "text/plain": [
       "    Unnamed: 0  Gene  Position                        Sequence  exp_hits\n",
       "35          35  SOX3       608  GAAGGAGTATCCGGACTACAAGTACCGACC         1\n",
       "35          35  SOX3       608  GAAGGAGTATCCGGACTACAAGTACCGACC         1"
      ]
     },
     "execution_count": 38,
     "metadata": {},
     "output_type": "execute_result"
    }
   ],
   "source": []
  },
  {
   "cell_type": "code",
   "execution_count": 18,
   "metadata": {},
   "outputs": [
    {
     "name": "stdout",
     "output_type": "stream",
     "text": [
      "[34]\n",
      "[35]\n"
     ]
    }
   ],
   "source": [
    "for num in range(0,number_of_selected):\n",
    "    randomlist = random.sample(range(0, ele.shape[0]), 1)\n",
    "    print(randomlist)\n",
    "    sele=ele.iloc[randomlist,:]\n",
    "    try:\n",
    "        selall=pd.concat([seleall,sele])\n",
    "    except:\n",
    "        seleall=sele\n",
    "    exclude=list(range(int(sele['Position']-20),int(sele['Position']+20)))\n",
    "    ele=ele.loc[~ele['Position'].isin(exclude),:]\n",
    "sele=seleall"
   ]
  },
  {
   "cell_type": "code",
   "execution_count": 41,
   "metadata": {},
   "outputs": [
    {
     "name": "stdout",
     "output_type": "stream",
     "text": [
      "SOX1\n",
      "[77]\n",
      "[9]\n",
      "SOX3\n",
      "[59]\n",
      "[51]\n"
     ]
    }
   ],
   "source": [
    "import pandas as pd\n",
    "import random \n",
    "pan=selected\n",
    "selected2=pd.DataFrame(columns=selected.columns)\n",
    "unigene=genes_required\n",
    "for e in unigene:\n",
    "    ele=pan[pan['Gene']==e]\n",
    "    if ele.shape[0]<number_of_selected:\n",
    "        sele=ele\n",
    "    else:    \n",
    "        for num in range(0,number_of_selected):\n",
    "            randomlist = random.sample(range(0, ele.shape[0]), 1)\n",
    "            print(randomlist)\n",
    "            sele=ele.iloc[randomlist,:]\n",
    "            try:\n",
    "                selall=pd.concat([seleall,sele])\n",
    "            except:\n",
    "                seleall=sele\n",
    "            exclude=list(range(int(sele['Position']-20),int(sele['Position']+20)))\n",
    "            ele=ele.loc[~ele['Position'].isin(exclude),:]\n",
    "        sele=seleall\n",
    "    selected2=pd.concat([selected2,sele])\n",
    "selected2.to_csv(path+'/selected_targets_group'+str(subgroup)+'.csv')"
   ]
  },
  {
   "cell_type": "code",
   "execution_count": 43,
   "metadata": {},
   "outputs": [
    {
     "data": {
      "text/html": [
       "<div>\n",
       "<style scoped>\n",
       "    .dataframe tbody tr th:only-of-type {\n",
       "        vertical-align: middle;\n",
       "    }\n",
       "\n",
       "    .dataframe tbody tr th {\n",
       "        vertical-align: top;\n",
       "    }\n",
       "\n",
       "    .dataframe thead th {\n",
       "        text-align: right;\n",
       "    }\n",
       "</style>\n",
       "<table border=\"1\" class=\"dataframe\">\n",
       "  <thead>\n",
       "    <tr style=\"text-align: right;\">\n",
       "      <th></th>\n",
       "      <th>Unnamed: 0</th>\n",
       "      <th>Gene</th>\n",
       "      <th>Position</th>\n",
       "      <th>Sequence</th>\n",
       "      <th>exp_hits</th>\n",
       "    </tr>\n",
       "  </thead>\n",
       "  <tbody>\n",
       "    <tr>\n",
       "      <th>0</th>\n",
       "      <td>0</td>\n",
       "      <td>SOX3</td>\n",
       "      <td>11</td>\n",
       "      <td>GCGACCTGTTCGAGAGAACTCATCAGGTGC</td>\n",
       "      <td>1</td>\n",
       "    </tr>\n",
       "    <tr>\n",
       "      <th>1</th>\n",
       "      <td>1</td>\n",
       "      <td>SOX3</td>\n",
       "      <td>14</td>\n",
       "      <td>ACCTGTTCGAGAGAACTCATCAGGTGCGAG</td>\n",
       "      <td>1</td>\n",
       "    </tr>\n",
       "    <tr>\n",
       "      <th>2</th>\n",
       "      <td>2</td>\n",
       "      <td>SOX3</td>\n",
       "      <td>19</td>\n",
       "      <td>TTCGAGAGAACTCATCAGGTGCGAGAAGCC</td>\n",
       "      <td>1</td>\n",
       "    </tr>\n",
       "    <tr>\n",
       "      <th>3</th>\n",
       "      <td>3</td>\n",
       "      <td>SOX3</td>\n",
       "      <td>228</td>\n",
       "      <td>CCGGCAATGTACAGCCTTCTGGAGACTGAA</td>\n",
       "      <td>1</td>\n",
       "    </tr>\n",
       "    <tr>\n",
       "      <th>4</th>\n",
       "      <td>4</td>\n",
       "      <td>SOX3</td>\n",
       "      <td>319</td>\n",
       "      <td>GAGGCGCAGGCAAGAGTAGTGCGAACGCAG</td>\n",
       "      <td>1</td>\n",
       "    </tr>\n",
       "    <tr>\n",
       "      <th>5</th>\n",
       "      <td>5</td>\n",
       "      <td>SOX3</td>\n",
       "      <td>541</td>\n",
       "      <td>AACTGCTGACCGACGCCGAGAAGCGACCAT</td>\n",
       "      <td>1</td>\n",
       "    </tr>\n",
       "    <tr>\n",
       "      <th>6</th>\n",
       "      <td>6</td>\n",
       "      <td>SOX3</td>\n",
       "      <td>542</td>\n",
       "      <td>ACTGCTGACCGACGCCGAGAAGCGACCATT</td>\n",
       "      <td>1</td>\n",
       "    </tr>\n",
       "    <tr>\n",
       "      <th>7</th>\n",
       "      <td>7</td>\n",
       "      <td>SOX3</td>\n",
       "      <td>543</td>\n",
       "      <td>CTGCTGACCGACGCCGAGAAGCGACCATTC</td>\n",
       "      <td>1</td>\n",
       "    </tr>\n",
       "    <tr>\n",
       "      <th>8</th>\n",
       "      <td>8</td>\n",
       "      <td>SOX3</td>\n",
       "      <td>545</td>\n",
       "      <td>GCTGACCGACGCCGAGAAGCGACCATTCAT</td>\n",
       "      <td>1</td>\n",
       "    </tr>\n",
       "    <tr>\n",
       "      <th>9</th>\n",
       "      <td>9</td>\n",
       "      <td>SOX3</td>\n",
       "      <td>548</td>\n",
       "      <td>GACCGACGCCGAGAAGCGACCATTCATCGA</td>\n",
       "      <td>1</td>\n",
       "    </tr>\n",
       "    <tr>\n",
       "      <th>10</th>\n",
       "      <td>10</td>\n",
       "      <td>SOX3</td>\n",
       "      <td>549</td>\n",
       "      <td>ACCGACGCCGAGAAGCGACCATTCATCGAC</td>\n",
       "      <td>1</td>\n",
       "    </tr>\n",
       "    <tr>\n",
       "      <th>11</th>\n",
       "      <td>11</td>\n",
       "      <td>SOX3</td>\n",
       "      <td>550</td>\n",
       "      <td>CCGACGCCGAGAAGCGACCATTCATCGACG</td>\n",
       "      <td>1</td>\n",
       "    </tr>\n",
       "    <tr>\n",
       "      <th>12</th>\n",
       "      <td>12</td>\n",
       "      <td>SOX3</td>\n",
       "      <td>552</td>\n",
       "      <td>GACGCCGAGAAGCGACCATTCATCGACGAG</td>\n",
       "      <td>1</td>\n",
       "    </tr>\n",
       "    <tr>\n",
       "      <th>13</th>\n",
       "      <td>13</td>\n",
       "      <td>SOX3</td>\n",
       "      <td>553</td>\n",
       "      <td>ACGCCGAGAAGCGACCATTCATCGACGAGG</td>\n",
       "      <td>1</td>\n",
       "    </tr>\n",
       "    <tr>\n",
       "      <th>14</th>\n",
       "      <td>14</td>\n",
       "      <td>SOX3</td>\n",
       "      <td>557</td>\n",
       "      <td>CGAGAAGCGACCATTCATCGACGAGGCCAA</td>\n",
       "      <td>1</td>\n",
       "    </tr>\n",
       "    <tr>\n",
       "      <th>15</th>\n",
       "      <td>15</td>\n",
       "      <td>SOX3</td>\n",
       "      <td>560</td>\n",
       "      <td>GAAGCGACCATTCATCGACGAGGCCAAGCG</td>\n",
       "      <td>1</td>\n",
       "    </tr>\n",
       "    <tr>\n",
       "      <th>16</th>\n",
       "      <td>16</td>\n",
       "      <td>SOX3</td>\n",
       "      <td>561</td>\n",
       "      <td>AAGCGACCATTCATCGACGAGGCCAAGCGA</td>\n",
       "      <td>1</td>\n",
       "    </tr>\n",
       "    <tr>\n",
       "      <th>17</th>\n",
       "      <td>17</td>\n",
       "      <td>SOX3</td>\n",
       "      <td>563</td>\n",
       "      <td>GCGACCATTCATCGACGAGGCCAAGCGACT</td>\n",
       "      <td>1</td>\n",
       "    </tr>\n",
       "    <tr>\n",
       "      <th>18</th>\n",
       "      <td>18</td>\n",
       "      <td>SOX3</td>\n",
       "      <td>564</td>\n",
       "      <td>CGACCATTCATCGACGAGGCCAAGCGACTT</td>\n",
       "      <td>1</td>\n",
       "    </tr>\n",
       "    <tr>\n",
       "      <th>19</th>\n",
       "      <td>19</td>\n",
       "      <td>SOX3</td>\n",
       "      <td>566</td>\n",
       "      <td>ACCATTCATCGACGAGGCCAAGCGACTTCG</td>\n",
       "      <td>1</td>\n",
       "    </tr>\n",
       "    <tr>\n",
       "      <th>20</th>\n",
       "      <td>20</td>\n",
       "      <td>SOX3</td>\n",
       "      <td>567</td>\n",
       "      <td>CCATTCATCGACGAGGCCAAGCGACTTCGC</td>\n",
       "      <td>1</td>\n",
       "    </tr>\n",
       "    <tr>\n",
       "      <th>21</th>\n",
       "      <td>21</td>\n",
       "      <td>SOX3</td>\n",
       "      <td>568</td>\n",
       "      <td>CATTCATCGACGAGGCCAAGCGACTTCGCG</td>\n",
       "      <td>1</td>\n",
       "    </tr>\n",
       "    <tr>\n",
       "      <th>22</th>\n",
       "      <td>22</td>\n",
       "      <td>SOX3</td>\n",
       "      <td>569</td>\n",
       "      <td>ATTCATCGACGAGGCCAAGCGACTTCGCGC</td>\n",
       "      <td>1</td>\n",
       "    </tr>\n",
       "    <tr>\n",
       "      <th>23</th>\n",
       "      <td>23</td>\n",
       "      <td>SOX3</td>\n",
       "      <td>580</td>\n",
       "      <td>AGGCCAAGCGACTTCGCGCCGTGCACATGA</td>\n",
       "      <td>1</td>\n",
       "    </tr>\n",
       "    <tr>\n",
       "      <th>24</th>\n",
       "      <td>24</td>\n",
       "      <td>SOX3</td>\n",
       "      <td>581</td>\n",
       "      <td>GGCCAAGCGACTTCGCGCCGTGCACATGAA</td>\n",
       "      <td>1</td>\n",
       "    </tr>\n",
       "    <tr>\n",
       "      <th>25</th>\n",
       "      <td>25</td>\n",
       "      <td>SOX3</td>\n",
       "      <td>582</td>\n",
       "      <td>GCCAAGCGACTTCGCGCCGTGCACATGAAG</td>\n",
       "      <td>1</td>\n",
       "    </tr>\n",
       "    <tr>\n",
       "      <th>26</th>\n",
       "      <td>26</td>\n",
       "      <td>SOX3</td>\n",
       "      <td>583</td>\n",
       "      <td>CCAAGCGACTTCGCGCCGTGCACATGAAGG</td>\n",
       "      <td>1</td>\n",
       "    </tr>\n",
       "    <tr>\n",
       "      <th>27</th>\n",
       "      <td>27</td>\n",
       "      <td>SOX3</td>\n",
       "      <td>584</td>\n",
       "      <td>CAAGCGACTTCGCGCCGTGCACATGAAGGA</td>\n",
       "      <td>1</td>\n",
       "    </tr>\n",
       "    <tr>\n",
       "      <th>28</th>\n",
       "      <td>28</td>\n",
       "      <td>SOX3</td>\n",
       "      <td>585</td>\n",
       "      <td>AAGCGACTTCGCGCCGTGCACATGAAGGAG</td>\n",
       "      <td>1</td>\n",
       "    </tr>\n",
       "    <tr>\n",
       "      <th>29</th>\n",
       "      <td>29</td>\n",
       "      <td>SOX3</td>\n",
       "      <td>587</td>\n",
       "      <td>GCGACTTCGCGCCGTGCACATGAAGGAGTA</td>\n",
       "      <td>1</td>\n",
       "    </tr>\n",
       "    <tr>\n",
       "      <th>30</th>\n",
       "      <td>30</td>\n",
       "      <td>SOX3</td>\n",
       "      <td>588</td>\n",
       "      <td>CGACTTCGCGCCGTGCACATGAAGGAGTAT</td>\n",
       "      <td>1</td>\n",
       "    </tr>\n",
       "    <tr>\n",
       "      <th>31</th>\n",
       "      <td>31</td>\n",
       "      <td>SOX3</td>\n",
       "      <td>590</td>\n",
       "      <td>ACTTCGCGCCGTGCACATGAAGGAGTATCC</td>\n",
       "      <td>1</td>\n",
       "    </tr>\n",
       "    <tr>\n",
       "      <th>32</th>\n",
       "      <td>32</td>\n",
       "      <td>SOX3</td>\n",
       "      <td>593</td>\n",
       "      <td>TCGCGCCGTGCACATGAAGGAGTATCCGGA</td>\n",
       "      <td>1</td>\n",
       "    </tr>\n",
       "    <tr>\n",
       "      <th>33</th>\n",
       "      <td>33</td>\n",
       "      <td>SOX3</td>\n",
       "      <td>596</td>\n",
       "      <td>CGCCGTGCACATGAAGGAGTATCCGGACTA</td>\n",
       "      <td>1</td>\n",
       "    </tr>\n",
       "    <tr>\n",
       "      <th>34</th>\n",
       "      <td>34</td>\n",
       "      <td>SOX3</td>\n",
       "      <td>597</td>\n",
       "      <td>GCCGTGCACATGAAGGAGTATCCGGACTAC</td>\n",
       "      <td>1</td>\n",
       "    </tr>\n",
       "    <tr>\n",
       "      <th>35</th>\n",
       "      <td>35</td>\n",
       "      <td>SOX3</td>\n",
       "      <td>608</td>\n",
       "      <td>GAAGGAGTATCCGGACTACAAGTACCGACC</td>\n",
       "      <td>1</td>\n",
       "    </tr>\n",
       "    <tr>\n",
       "      <th>36</th>\n",
       "      <td>36</td>\n",
       "      <td>SOX3</td>\n",
       "      <td>611</td>\n",
       "      <td>GGAGTATCCGGACTACAAGTACCGACCGCG</td>\n",
       "      <td>1</td>\n",
       "    </tr>\n",
       "    <tr>\n",
       "      <th>37</th>\n",
       "      <td>37</td>\n",
       "      <td>SOX3</td>\n",
       "      <td>614</td>\n",
       "      <td>GTATCCGGACTACAAGTACCGACCGCGCCG</td>\n",
       "      <td>1</td>\n",
       "    </tr>\n",
       "    <tr>\n",
       "      <th>38</th>\n",
       "      <td>38</td>\n",
       "      <td>SOX3</td>\n",
       "      <td>617</td>\n",
       "      <td>TCCGGACTACAAGTACCGACCGCGCCGCAA</td>\n",
       "      <td>1</td>\n",
       "    </tr>\n",
       "    <tr>\n",
       "      <th>39</th>\n",
       "      <td>39</td>\n",
       "      <td>SOX3</td>\n",
       "      <td>619</td>\n",
       "      <td>CGGACTACAAGTACCGACCGCGCCGCAAGA</td>\n",
       "      <td>1</td>\n",
       "    </tr>\n",
       "    <tr>\n",
       "      <th>40</th>\n",
       "      <td>40</td>\n",
       "      <td>SOX3</td>\n",
       "      <td>621</td>\n",
       "      <td>GACTACAAGTACCGACCGCGCCGCAAGACC</td>\n",
       "      <td>1</td>\n",
       "    </tr>\n",
       "    <tr>\n",
       "      <th>41</th>\n",
       "      <td>41</td>\n",
       "      <td>SOX3</td>\n",
       "      <td>622</td>\n",
       "      <td>ACTACAAGTACCGACCGCGCCGCAAGACCA</td>\n",
       "      <td>1</td>\n",
       "    </tr>\n",
       "    <tr>\n",
       "      <th>42</th>\n",
       "      <td>42</td>\n",
       "      <td>SOX3</td>\n",
       "      <td>623</td>\n",
       "      <td>CTACAAGTACCGACCGCGCCGCAAGACCAA</td>\n",
       "      <td>1</td>\n",
       "    </tr>\n",
       "    <tr>\n",
       "      <th>43</th>\n",
       "      <td>43</td>\n",
       "      <td>SOX3</td>\n",
       "      <td>624</td>\n",
       "      <td>TACAAGTACCGACCGCGCCGCAAGACCAAG</td>\n",
       "      <td>1</td>\n",
       "    </tr>\n",
       "    <tr>\n",
       "      <th>44</th>\n",
       "      <td>44</td>\n",
       "      <td>SOX3</td>\n",
       "      <td>625</td>\n",
       "      <td>ACAAGTACCGACCGCGCCGCAAGACCAAGA</td>\n",
       "      <td>1</td>\n",
       "    </tr>\n",
       "    <tr>\n",
       "      <th>45</th>\n",
       "      <td>45</td>\n",
       "      <td>SOX3</td>\n",
       "      <td>626</td>\n",
       "      <td>CAAGTACCGACCGCGCCGCAAGACCAAGAC</td>\n",
       "      <td>1</td>\n",
       "    </tr>\n",
       "    <tr>\n",
       "      <th>46</th>\n",
       "      <td>46</td>\n",
       "      <td>SOX3</td>\n",
       "      <td>627</td>\n",
       "      <td>AAGTACCGACCGCGCCGCAAGACCAAGACG</td>\n",
       "      <td>1</td>\n",
       "    </tr>\n",
       "    <tr>\n",
       "      <th>47</th>\n",
       "      <td>47</td>\n",
       "      <td>SOX3</td>\n",
       "      <td>635</td>\n",
       "      <td>ACCGCGCCGCAAGACCAAGACGCTGCTCAA</td>\n",
       "      <td>1</td>\n",
       "    </tr>\n",
       "    <tr>\n",
       "      <th>48</th>\n",
       "      <td>48</td>\n",
       "      <td>SOX3</td>\n",
       "      <td>638</td>\n",
       "      <td>GCGCCGCAAGACCAAGACGCTGCTCAAGAA</td>\n",
       "      <td>1</td>\n",
       "    </tr>\n",
       "    <tr>\n",
       "      <th>53</th>\n",
       "      <td>53</td>\n",
       "      <td>SOX3</td>\n",
       "      <td>907</td>\n",
       "      <td>ACCGCTACGACATGGCCGGCCTGCAGTACA</td>\n",
       "      <td>1</td>\n",
       "    </tr>\n",
       "    <tr>\n",
       "      <th>54</th>\n",
       "      <td>54</td>\n",
       "      <td>SOX3</td>\n",
       "      <td>953</td>\n",
       "      <td>CGGCGCTCAGAGCTACATGAACGTCGCTGC</td>\n",
       "      <td>1</td>\n",
       "    </tr>\n",
       "    <tr>\n",
       "      <th>55</th>\n",
       "      <td>55</td>\n",
       "      <td>SOX3</td>\n",
       "      <td>956</td>\n",
       "      <td>CGCTCAGAGCTACATGAACGTCGCTGCCGC</td>\n",
       "      <td>1</td>\n",
       "    </tr>\n",
       "    <tr>\n",
       "      <th>56</th>\n",
       "      <td>56</td>\n",
       "      <td>SOX3</td>\n",
       "      <td>959</td>\n",
       "      <td>TCAGAGCTACATGAACGTCGCTGCCGCGGC</td>\n",
       "      <td>1</td>\n",
       "    </tr>\n",
       "    <tr>\n",
       "      <th>64</th>\n",
       "      <td>64</td>\n",
       "      <td>SOX3</td>\n",
       "      <td>1309</td>\n",
       "      <td>GGACTGCAGTCAACGGAACGGTGCCGCTGA</td>\n",
       "      <td>1</td>\n",
       "    </tr>\n",
       "    <tr>\n",
       "      <th>65</th>\n",
       "      <td>65</td>\n",
       "      <td>SOX3</td>\n",
       "      <td>1743</td>\n",
       "      <td>GTGAGGCCAGCTGGAGAACTGCAACGCCTA</td>\n",
       "      <td>1</td>\n",
       "    </tr>\n",
       "    <tr>\n",
       "      <th>66</th>\n",
       "      <td>66</td>\n",
       "      <td>SOX3</td>\n",
       "      <td>1746</td>\n",
       "      <td>AGGCCAGCTGGAGAACTGCAACGCCTACGC</td>\n",
       "      <td>1</td>\n",
       "    </tr>\n",
       "  </tbody>\n",
       "</table>\n",
       "</div>"
      ],
      "text/plain": [
       "    Unnamed: 0  Gene  Position                        Sequence  exp_hits\n",
       "0            0  SOX3        11  GCGACCTGTTCGAGAGAACTCATCAGGTGC         1\n",
       "1            1  SOX3        14  ACCTGTTCGAGAGAACTCATCAGGTGCGAG         1\n",
       "2            2  SOX3        19  TTCGAGAGAACTCATCAGGTGCGAGAAGCC         1\n",
       "3            3  SOX3       228  CCGGCAATGTACAGCCTTCTGGAGACTGAA         1\n",
       "4            4  SOX3       319  GAGGCGCAGGCAAGAGTAGTGCGAACGCAG         1\n",
       "5            5  SOX3       541  AACTGCTGACCGACGCCGAGAAGCGACCAT         1\n",
       "6            6  SOX3       542  ACTGCTGACCGACGCCGAGAAGCGACCATT         1\n",
       "7            7  SOX3       543  CTGCTGACCGACGCCGAGAAGCGACCATTC         1\n",
       "8            8  SOX3       545  GCTGACCGACGCCGAGAAGCGACCATTCAT         1\n",
       "9            9  SOX3       548  GACCGACGCCGAGAAGCGACCATTCATCGA         1\n",
       "10          10  SOX3       549  ACCGACGCCGAGAAGCGACCATTCATCGAC         1\n",
       "11          11  SOX3       550  CCGACGCCGAGAAGCGACCATTCATCGACG         1\n",
       "12          12  SOX3       552  GACGCCGAGAAGCGACCATTCATCGACGAG         1\n",
       "13          13  SOX3       553  ACGCCGAGAAGCGACCATTCATCGACGAGG         1\n",
       "14          14  SOX3       557  CGAGAAGCGACCATTCATCGACGAGGCCAA         1\n",
       "15          15  SOX3       560  GAAGCGACCATTCATCGACGAGGCCAAGCG         1\n",
       "16          16  SOX3       561  AAGCGACCATTCATCGACGAGGCCAAGCGA         1\n",
       "17          17  SOX3       563  GCGACCATTCATCGACGAGGCCAAGCGACT         1\n",
       "18          18  SOX3       564  CGACCATTCATCGACGAGGCCAAGCGACTT         1\n",
       "19          19  SOX3       566  ACCATTCATCGACGAGGCCAAGCGACTTCG         1\n",
       "20          20  SOX3       567  CCATTCATCGACGAGGCCAAGCGACTTCGC         1\n",
       "21          21  SOX3       568  CATTCATCGACGAGGCCAAGCGACTTCGCG         1\n",
       "22          22  SOX3       569  ATTCATCGACGAGGCCAAGCGACTTCGCGC         1\n",
       "23          23  SOX3       580  AGGCCAAGCGACTTCGCGCCGTGCACATGA         1\n",
       "24          24  SOX3       581  GGCCAAGCGACTTCGCGCCGTGCACATGAA         1\n",
       "25          25  SOX3       582  GCCAAGCGACTTCGCGCCGTGCACATGAAG         1\n",
       "26          26  SOX3       583  CCAAGCGACTTCGCGCCGTGCACATGAAGG         1\n",
       "27          27  SOX3       584  CAAGCGACTTCGCGCCGTGCACATGAAGGA         1\n",
       "28          28  SOX3       585  AAGCGACTTCGCGCCGTGCACATGAAGGAG         1\n",
       "29          29  SOX3       587  GCGACTTCGCGCCGTGCACATGAAGGAGTA         1\n",
       "30          30  SOX3       588  CGACTTCGCGCCGTGCACATGAAGGAGTAT         1\n",
       "31          31  SOX3       590  ACTTCGCGCCGTGCACATGAAGGAGTATCC         1\n",
       "32          32  SOX3       593  TCGCGCCGTGCACATGAAGGAGTATCCGGA         1\n",
       "33          33  SOX3       596  CGCCGTGCACATGAAGGAGTATCCGGACTA         1\n",
       "34          34  SOX3       597  GCCGTGCACATGAAGGAGTATCCGGACTAC         1\n",
       "35          35  SOX3       608  GAAGGAGTATCCGGACTACAAGTACCGACC         1\n",
       "36          36  SOX3       611  GGAGTATCCGGACTACAAGTACCGACCGCG         1\n",
       "37          37  SOX3       614  GTATCCGGACTACAAGTACCGACCGCGCCG         1\n",
       "38          38  SOX3       617  TCCGGACTACAAGTACCGACCGCGCCGCAA         1\n",
       "39          39  SOX3       619  CGGACTACAAGTACCGACCGCGCCGCAAGA         1\n",
       "40          40  SOX3       621  GACTACAAGTACCGACCGCGCCGCAAGACC         1\n",
       "41          41  SOX3       622  ACTACAAGTACCGACCGCGCCGCAAGACCA         1\n",
       "42          42  SOX3       623  CTACAAGTACCGACCGCGCCGCAAGACCAA         1\n",
       "43          43  SOX3       624  TACAAGTACCGACCGCGCCGCAAGACCAAG         1\n",
       "44          44  SOX3       625  ACAAGTACCGACCGCGCCGCAAGACCAAGA         1\n",
       "45          45  SOX3       626  CAAGTACCGACCGCGCCGCAAGACCAAGAC         1\n",
       "46          46  SOX3       627  AAGTACCGACCGCGCCGCAAGACCAAGACG         1\n",
       "47          47  SOX3       635  ACCGCGCCGCAAGACCAAGACGCTGCTCAA         1\n",
       "48          48  SOX3       638  GCGCCGCAAGACCAAGACGCTGCTCAAGAA         1\n",
       "53          53  SOX3       907  ACCGCTACGACATGGCCGGCCTGCAGTACA         1\n",
       "54          54  SOX3       953  CGGCGCTCAGAGCTACATGAACGTCGCTGC         1\n",
       "55          55  SOX3       956  CGCTCAGAGCTACATGAACGTCGCTGCCGC         1\n",
       "56          56  SOX3       959  TCAGAGCTACATGAACGTCGCTGCCGCGGC         1\n",
       "64          64  SOX3      1309  GGACTGCAGTCAACGGAACGGTGCCGCTGA         1\n",
       "65          65  SOX3      1743  GTGAGGCCAGCTGGAGAACTGCAACGCCTA         1\n",
       "66          66  SOX3      1746  AGGCCAGCTGGAGAACTGCAACGCCTACGC         1"
      ]
     },
     "execution_count": 43,
     "metadata": {},
     "output_type": "execute_result"
    }
   ],
   "source": [
    "ele"
   ]
  },
  {
   "cell_type": "code",
   "execution_count": 5,
   "metadata": {},
   "outputs": [],
   "source": [
    "def select_sequences(path,selected,genes_required,number_of_selected,subgroup=1):\n",
    "    import pandas as pd\n",
    "    import random \n",
    "    pan=selected\n",
    "    selected2=pd.DataFrame(columns=selected.columns)\n",
    "    unigene=genes_required\n",
    "    for e in unigene:\n",
    "        ele=pan[pan['Gene']==e]\n",
    "        if ele.shape[0]<number_of_selected:\n",
    "            sele=ele\n",
    "        else:    \n",
    "            randomlist = random.sample(range(0, ele.shape[0]), number_of_selected) \n",
    "            sele=ele.iloc[randomlist,:]\n",
    "        selected2=pd.concat([selected2,sele])\n",
    "    selected2.to_csv(path+'/selected_targets_group'+str(subgroup)+'.csv')\n",
    "    return selected2"
   ]
  },
  {
   "cell_type": "code",
   "execution_count": 6,
   "metadata": {},
   "outputs": [],
   "source": [
    "selected_sequences=plp.select_sequences(path,sequences,found_genes,number_of_seqs,subgroup=1)"
   ]
  },
  {
   "cell_type": "code",
   "execution_count": 7,
   "metadata": {
    "scrolled": true
   },
   "outputs": [],
   "source": [
    "def map_sequences(selected,subgroup=1):\n",
    "    kmers =list(selected['Sequence'])\n",
    "    transcriptome = (ref)\n",
    "    seqlist = []\n",
    "    hitlist = []\n",
    "    lenlist = []\n",
    "    s=0\n",
    "    for sequence in kmers:\n",
    "        s=s+1\n",
    "        print ('Looking for sequence ('+str(s)+'/'+str(len(kmers))+'): '+sequence + ' allowing ' + str(mismatches) + ' mismatches')\n",
    "        output= !C:/Users/sergio.salas/Downloads/cutadapt-3.4.exe -a $sequence --overlap 30 $transcriptome --no-indels -e $mismatches --action=retain --untrimmed-output C:\\Users\\sergio.salas\\Downloads\\here  \n",
    "        n=0\n",
    "        c2 = [line for line in output if line[0:1] == '>']\n",
    "        print ('Found '+str(len(c2))+' hits')\n",
    "        seqlist.append (sequence)\n",
    "        hitlist.append (c2)\n",
    "        lenlist.append (len(c2))\n",
    "    expoutput = pd.DataFrame(list(zip(seqlist, hitlist, lenlist)),\n",
    "                   columns =['sequence_with_Ns', 'hits', 'number_of_hits'])\n",
    "    bcf_all=pd.concat([selected.reset_index(),expoutput],axis=1)\n",
    "    bcf_all.to_csv(path+'mapped_sequences'+str(subgroup)+'.csv')\n",
    "    return bcf_all"
   ]
  },
  {
   "cell_type": "code",
   "execution_count": 8,
   "metadata": {},
   "outputs": [
    {
     "name": "stdout",
     "output_type": "stream",
     "text": [
      "Looking for sequence (1/6): GTGGTCAGTCTTCATGCAGCAGCCAACAGT allowing 5 mismatches\n",
      "Found 3 hits\n",
      "Looking for sequence (2/6): GTGGAACGAAGTCAGCTCCGGAAGCGCCGA allowing 5 mismatches\n",
      "Found 3 hits\n",
      "Looking for sequence (3/6): CTGCCTTACACCATGGACGCGTTCATGCTT allowing 5 mismatches\n",
      "Found 11 hits\n",
      "Looking for sequence (4/6): GGTGGACTGAGCTGGCAGACCTCACCAGAT allowing 5 mismatches\n",
      "Found 9 hits\n",
      "Looking for sequence (5/6): GAGGCTCAGCTAACGCTCAACAGCTACATC allowing 5 mismatches\n",
      "Found 2 hits\n",
      "Looking for sequence (6/6): CAAGATGAGGCTCAGCTAACGCTCAACAGC allowing 5 mismatches\n",
      "Found 2 hits\n"
     ]
    }
   ],
   "source": [
    "sel_mapped_seqs=map_sequences(selected_sequences,subgroup=1)"
   ]
  },
  {
   "cell_type": "markdown",
   "metadata": {},
   "source": [
    "# Check the amount of specific sequences for each gene"
   ]
  },
  {
   "cell_type": "markdown",
   "metadata": {},
   "source": [
    "After mapping the sequences against the reference genome, we check how many genes have all PLPs that we asked for ( `genes_good_PLPs` ), how many have less than expected (`genes_too_low_PLPs`) and how many have none ( `genes_no_PLPs` ). If we add to this groups, the list of `notfound_genes` where we couldn't design any k-mer against, all the genes we tested should fall under one of this categories. This is:\n",
    "* `notfound_genes`: genes either not found in the transcriptome OR without a common sequence in all variants/too short genes. We suggest to explore this genes further more to check if it's a naming problem or if it's a gene that is not suitable for ISS\n",
    "* `genes_no_PLPs`: potential k-mers have been found for that gene, but none has proven to be specific. Try rerunning `plp.select_sequences` but with a larger `number_of_seqs`. If genes persist in this list, it can mean that they do not have specific k-mers suitable for ISS due to lack of specificity\n",
    "* `genes_too_low_PLPs`: some potential k-mers have been found for this genes but they are not enough. Rerunning `plp.select_sequences` but with a larger `number_of_seqs` should really make it. Otherwise, consider ordering less PLPs for your gene of interest\n",
    "* `genes_good_PLPs`: you have everything that you needed for those genes"
   ]
  },
  {
   "cell_type": "code",
   "execution_count": 9,
   "metadata": {},
   "outputs": [],
   "source": [
    "specific_seqs1,genes_good_PLPs, genes_too_low_PLPs, genes_no_PLPs=plp.check_plps(sel_mapped_seqs,final_designed,genes,path,subgroup=1)"
   ]
  },
  {
   "cell_type": "markdown",
   "metadata": {},
   "source": [
    "# RUN2 : looking for specific k-mers for genes missing (subgroup 2)"
   ]
  },
  {
   "cell_type": "markdown",
   "metadata": {},
   "source": [
    "It's possible that you have group of genes that do not have enough specific k-mers in the first run. For these groups (present in `genes_too_low_PLPs` and `genes_no_PLPs` we will run another round of selection of potential k-mers to check their specificity. For this reason, we'll now modify the parameter `number_of_seqs` to be larger. This is considered as **`subgroup`=2** , and it's important to specify it in the functions. "
   ]
  },
  {
   "cell_type": "code",
   "execution_count": 10,
   "metadata": {},
   "outputs": [],
   "source": [
    "genes_to_redesign=list(genes_too_low_PLPs.index) # add genes_no_PLPs if needed to this list\n",
    "number_of_seqs=1"
   ]
  },
  {
   "cell_type": "code",
   "execution_count": 11,
   "metadata": {},
   "outputs": [],
   "source": [
    "selected_sequences2=plp.select_sequences(path,sequences,found_genes,number_of_seqs,subgroup=2)"
   ]
  },
  {
   "cell_type": "code",
   "execution_count": 12,
   "metadata": {},
   "outputs": [
    {
     "name": "stdout",
     "output_type": "stream",
     "text": [
      "Looking for sequence (1/3): ACTCCAAGGCTGTGTGTGCACCAGCCAGAG allowing 5 mismatches\n",
      "Found 1 hits\n",
      "Looking for sequence (2/3): ACTGCCTTACACCATGGACGCGTTCATGCT allowing 5 mismatches\n",
      "Found 11 hits\n",
      "Looking for sequence (3/3): CTCTACTGGCTGTATCTGGCATGAACGGTG allowing 5 mismatches\n",
      "Found 2 hits\n"
     ]
    }
   ],
   "source": [
    "sel_mapped_seqs2=map_sequences(selected_sequences2,subgroup=2)"
   ]
  },
  {
   "cell_type": "code",
   "execution_count": 13,
   "metadata": {},
   "outputs": [],
   "source": [
    "specific_seqs2,genes_good_PLPs2, genes_too_low_PLPs2, genes_no_PLPs2=plp.check_plps(sel_mapped_seqs2,final_designed,genes,path,subgroup=2)"
   ]
  },
  {
   "cell_type": "markdown",
   "metadata": {},
   "source": [
    "# Combine the specific sequences from different subgroups"
   ]
  },
  {
   "cell_type": "markdown",
   "metadata": {},
   "source": [
    "After we got the specific sequences for more than 1 run, we'd like to combine them to get a final list"
   ]
  },
  {
   "cell_type": "code",
   "execution_count": 14,
   "metadata": {},
   "outputs": [],
   "source": [
    "final_seqs=pd.concat([specific_seqs1,specific_seqs2],axis=0)"
   ]
  },
  {
   "cell_type": "code",
   "execution_count": 15,
   "metadata": {},
   "outputs": [],
   "source": [
    "specific_seqs_final,genes_good_PLPs_final, genes_too_low_PLPs_final, genes_no_PLPs_final=plp.check_plps(final_seqs,final_designed,genes,path,subgroup='final')"
   ]
  },
  {
   "cell_type": "markdown",
   "metadata": {},
   "source": [
    "# Assign Gene to Barcode"
   ]
  },
  {
   "cell_type": "markdown",
   "metadata": {},
   "source": [
    " Once we have specific targets for all genes, we can build the PLPs. For this, we use L_library_v2 as reference. By modifying the parameter `how`, we can select how to assign genes to Lbar_IDs.\n",
    " * We can  select `how='start'` and then set `on` to the first ID to assign to your gene.\n",
    " * We can  select `how='end'` and then set `on` to the last ID to assign to your gene.\n",
    " * We can also select `how='customized'` and provide as `on` the path to the csv with two columns, one for \"Gene\", and the other for \"Lbar_ID\"\n",
    " "
   ]
  },
  {
   "cell_type": "code",
   "execution_count": 16,
   "metadata": {},
   "outputs": [
    {
     "name": "stdout",
     "output_type": "stream",
     "text": [
      "I just processed 9 unique target sequences. I am done\n"
     ]
    }
   ],
   "source": [
    "customizedlib=r\"C:\\Users\\sergio.salas\\Documents\\PhD\\projects\\gene_design\\hower_example_5\\assigned_gene_LID.csv\"\n",
    "probes=plp.build_plps(path,specific_seqs_final,L_probe_library,plp_length,how='customized',on=customizedlib)"
   ]
  },
  {
   "cell_type": "code",
   "execution_count": 17,
   "metadata": {},
   "outputs": [
    {
     "data": {
      "text/html": [
       "<div>\n",
       "<style scoped>\n",
       "    .dataframe tbody tr th:only-of-type {\n",
       "        vertical-align: middle;\n",
       "    }\n",
       "\n",
       "    .dataframe tbody tr th {\n",
       "        vertical-align: top;\n",
       "    }\n",
       "\n",
       "    .dataframe thead th {\n",
       "        text-align: right;\n",
       "    }\n",
       "</style>\n",
       "<table border=\"1\" class=\"dataframe\">\n",
       "  <thead>\n",
       "    <tr style=\"text-align: right;\">\n",
       "      <th></th>\n",
       "      <th>sequence</th>\n",
       "      <th>Lbar_ID</th>\n",
       "      <th>AffyID</th>\n",
       "      <th>Gene</th>\n",
       "      <th>code</th>\n",
       "    </tr>\n",
       "  </thead>\n",
       "  <tbody>\n",
       "    <tr>\n",
       "      <th>0</th>\n",
       "      <td>CTGACTTCGTTCCACACGTGCCTAAAGTGTACTACTGCGTCTATTT...</td>\n",
       "      <td>LbarID_0227</td>\n",
       "      <td>Afy16K_ID2081</td>\n",
       "      <td>GLI3</td>\n",
       "      <td>232311</td>\n",
       "    </tr>\n",
       "    <tr>\n",
       "      <th>1</th>\n",
       "      <td>ATGAAGACTGACCACACGTGCCTAAAGTGTACTACTGCGTCTATTT...</td>\n",
       "      <td>LbarID_0227</td>\n",
       "      <td>Afy16K_ID2081</td>\n",
       "      <td>GLI3</td>\n",
       "      <td>232311</td>\n",
       "    </tr>\n",
       "    <tr>\n",
       "      <th>2</th>\n",
       "      <td>CATGGTGTAAGGCAGAGGTCTTGACAATAAGGACGTGCGTCTATTT...</td>\n",
       "      <td>LbarID_0229</td>\n",
       "      <td>Afy16K_ID2086</td>\n",
       "      <td>MSI2</td>\n",
       "      <td>441111</td>\n",
       "    </tr>\n",
       "    <tr>\n",
       "      <th>3</th>\n",
       "      <td>ATGGTGTAAGGCAGTAGGTCTTGACAATAAGGACGTGCGTCTATTT...</td>\n",
       "      <td>LbarID_0229</td>\n",
       "      <td>Afy16K_ID2086</td>\n",
       "      <td>MSI2</td>\n",
       "      <td>441111</td>\n",
       "    </tr>\n",
       "    <tr>\n",
       "      <th>4</th>\n",
       "      <td>CTGAGCCTCATCTTGAGGTCGTTAAGAGGCAATACTGCGTCTATTT...</td>\n",
       "      <td>LbarID_0228</td>\n",
       "      <td>Afy16K_ID2085</td>\n",
       "      <td>NR2E1</td>\n",
       "      <td>111211</td>\n",
       "    </tr>\n",
       "    <tr>\n",
       "      <th>5</th>\n",
       "      <td>CGTTAGCTGAGCCTCAGGTCGTTAAGAGGCAATACTGCGTCTATTT...</td>\n",
       "      <td>LbarID_0228</td>\n",
       "      <td>Afy16K_ID2085</td>\n",
       "      <td>NR2E1</td>\n",
       "      <td>111211</td>\n",
       "    </tr>\n",
       "  </tbody>\n",
       "</table>\n",
       "</div>"
      ],
      "text/plain": [
       "                                            sequence      Lbar_ID  \\\n",
       "0  CTGACTTCGTTCCACACGTGCCTAAAGTGTACTACTGCGTCTATTT...  LbarID_0227   \n",
       "1  ATGAAGACTGACCACACGTGCCTAAAGTGTACTACTGCGTCTATTT...  LbarID_0227   \n",
       "2  CATGGTGTAAGGCAGAGGTCTTGACAATAAGGACGTGCGTCTATTT...  LbarID_0229   \n",
       "3  ATGGTGTAAGGCAGTAGGTCTTGACAATAAGGACGTGCGTCTATTT...  LbarID_0229   \n",
       "4  CTGAGCCTCATCTTGAGGTCGTTAAGAGGCAATACTGCGTCTATTT...  LbarID_0228   \n",
       "5  CGTTAGCTGAGCCTCAGGTCGTTAAGAGGCAATACTGCGTCTATTT...  LbarID_0228   \n",
       "\n",
       "          AffyID   Gene    code  \n",
       "0  Afy16K_ID2081   GLI3  232311  \n",
       "1  Afy16K_ID2081   GLI3  232311  \n",
       "2  Afy16K_ID2086   MSI2  441111  \n",
       "3  Afy16K_ID2086   MSI2  441111  \n",
       "4  Afy16K_ID2085  NR2E1  111211  \n",
       "5  Afy16K_ID2085  NR2E1  111211  "
      ]
     },
     "execution_count": 17,
     "metadata": {},
     "output_type": "execute_result"
    }
   ],
   "source": [
    "probes"
   ]
  },
  {
   "cell_type": "code",
   "execution_count": null,
   "metadata": {},
   "outputs": [],
   "source": []
  }
 ],
 "metadata": {
  "kernelspec": {
   "display_name": "biopython",
   "language": "python",
   "name": "biopython"
  },
  "language_info": {
   "codemirror_mode": {
    "name": "ipython",
    "version": 3
   },
   "file_extension": ".py",
   "mimetype": "text/x-python",
   "name": "python",
   "nbconvert_exporter": "python",
   "pygments_lexer": "ipython3",
   "version": "3.8.5"
  }
 },
 "nbformat": 4,
 "nbformat_minor": 4
}
